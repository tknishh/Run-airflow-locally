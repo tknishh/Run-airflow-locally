{
 "cells": [
  {
   "cell_type": "code",
   "execution_count": 1,
   "id": "ba73193b-a3c9-4c73-87f5-b2faeeb55f13",
   "metadata": {
    "tags": [
     "parameters"
    ]
   },
   "outputs": [
    {
     "name": "stdout",
     "output_type": "stream",
     "text": [
      "Hello world. Today is Thu, Oct 27 11:44 PM\n"
     ]
    }
   ],
   "source": [
    "import datetime as dt\n",
    "\n",
    "now = dt.datetime.now()\n",
    "print(f\"Hello world. Today is {now:%a}, {now:%b} {now:%d} {now:%I:%M %p}\")"
   ]
  },
  {
   "cell_type": "code",
   "execution_count": null,
   "id": "d328379e-e141-4efb-9300-e240c93b06f5",
   "metadata": {},
   "outputs": [],
   "source": []
  }
 ],
 "metadata": {
  "kernelspec": {
   "display_name": "Python 3 (ipykernel)",
   "language": "python",
   "name": "python3"
  },
  "language_info": {
   "codemirror_mode": {
    "name": "ipython",
    "version": 3
   },
   "file_extension": ".py",
   "mimetype": "text/x-python",
   "name": "python",
   "nbconvert_exporter": "python",
   "pygments_lexer": "ipython3",
   "version": "3.9.12"
  },
  "vscode": {
   "interpreter": {
    "hash": "ef3cc135c88643b73cb86ebf052b5080a3f1657beeac7bdc53483195d594c301"
   }
  }
 },
 "nbformat": 4,
 "nbformat_minor": 5
}
